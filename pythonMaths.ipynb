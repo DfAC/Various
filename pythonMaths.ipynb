{
 "cells": [
  {
   "cell_type": "markdown",
   "metadata": {
    "deletable": true,
    "editable": true
   },
   "source": [
    "This is my code following [Doing Math with python](https://www.safaribooksonline.com/library/view/doing-math-with/9781457189999/) book.\n",
    "\n",
    "## Chapter 1\n",
    "\n",
    "Lets start by finding factors (all prime numbers) for the integer"
   ]
  },
  {
   "cell_type": "code",
   "execution_count": 10,
   "metadata": {
    "collapsed": false,
    "deletable": true,
    "editable": true
   },
   "outputs": [
    {
     "name": "stdout",
     "output_type": "stream",
     "text": [
      "Factors of 50:1\n",
      "Factors of 50:2\n",
      "Factors of 50:5\n",
      "Factors of 50:10\n",
      "Factors of 50:25\n",
      "Factors of 50:50\n"
     ]
    }
   ],
   "source": [
    "def factors(b):\n",
    "    for i in range(1,b+1):\n",
    "        if b%i == 0:\n",
    "            print \"Factors of {}:{}\".format(b,i)\n",
    "\n",
    "factors(50)"
   ]
  },
  {
   "cell_type": "markdown",
   "metadata": {
    "deletable": true,
    "editable": true
   },
   "source": [
    "## Making multiplication tables"
   ]
  },
  {
   "cell_type": "code",
   "execution_count": 22,
   "metadata": {
    "collapsed": false,
    "deletable": true,
    "editable": true
   },
   "outputs": [
    {
     "name": "stdout",
     "output_type": "stream",
     "text": [
      "10.0 x 1:10\n",
      "10.0 x 2:20\n",
      "10.0 x 3:30\n",
      "10.0 x 4:40\n"
     ]
    }
   ],
   "source": [
    "def multipleTable(intValue,toWhichMultiple):\n",
    "    for i in range(1,toWhichMultiple):\n",
    "        print \"{:.1f} x {}:{}\".format(intValue,i,intValue*i)\n",
    "\n",
    "multipleTable(10,5)"
   ]
  },
  {
   "cell_type": "markdown",
   "metadata": {
    "deletable": true,
    "editable": true
   },
   "source": [
    "# Chapter 2 - plotting\n"
   ]
  },
  {
   "cell_type": "code",
   "execution_count": 9,
   "metadata": {
    "collapsed": false,
    "deletable": true,
    "editable": true,
    "scrolled": true
   },
   "outputs": [
    {
     "data": {
      "image/png": "[encoded data removed]",
      "text/plain": [
       "<matplotlib.figure.Figure at 0x963d780>"
      ]
     },
     "metadata": {},
     "output_type": "display_data"
    }
   ],
   "source": [
    "import matplotlib.pyplot as plt\n",
    "%matplotlib inline\n",
    "\n",
    "x = [1,2,3];\n",
    "y = [2,4,6];\n",
    "\n",
    "plt.plot(x,y);\n",
    "plt.plot(x,y,'r*');\n",
    "plt.title('smoke and mirrors');\n",
    "#print plt.axis();"
   ]
  },
  {
   "cell_type": "code",
   "execution_count": 10,
   "metadata": {
    "collapsed": false,
    "deletable": true,
    "editable": true
   },
   "outputs": [
    {
     "data": {
      "image/png": "[encoded data removed]",
      "text/plain": [
       "<matplotlib.figure.Figure at 0x937b860>"
      ]
     },
     "metadata": {},
     "output_type": "display_data"
    }
   ],
   "source": [
    "def draw_graph(x,y):\n",
    "    plt.plot(x,y,'o-')\n",
    "    plt.xlabel('Distance [m]')\n",
    "    plt.ylabel('Gravitation force')\n",
    "    plt.title('Gravity')\n",
    "\n",
    "\n",
    "r = range(100,1001,50)\n",
    "F=[]\n",
    "\n",
    "G=6.674*(10**-11)\n",
    "m1=0.5\n",
    "m2=1.5\n",
    "\n",
    "for dist in r:\n",
    "    force = G*(m1*m2)/(dist**2)\n",
    "    F.append(force)\n",
    "\n",
    "draw_graph(r,F)"
   ]
  }
 ],
 "metadata": {
  "kernelspec": {
   "display_name": "Python [default]",
   "language": "python",
   "name": "python2"
  },
  "language_info": {
   "codemirror_mode": {
    "name": "ipython",
    "version": 2
   },
   "file_extension": ".py",
   "mimetype": "text/x-python",
   "name": "python",
   "nbconvert_exporter": "python",
   "pygments_lexer": "ipython2",
   "version": "2.7.12"
  }
 },
 "nbformat": 4,
 "nbformat_minor": 1
}
